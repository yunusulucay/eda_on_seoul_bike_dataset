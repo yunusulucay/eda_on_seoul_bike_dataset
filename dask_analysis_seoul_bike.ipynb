{
 "cells": [
  {
   "cell_type": "code",
   "execution_count": 1,
   "id": "genetic-eclipse",
   "metadata": {},
   "outputs": [],
   "source": [
    "import dask.dataframe as dd\n",
    "import dask.array as da\n",
    "import dask.bag as db\n",
    "import matplotlib.pyplot as plt \n",
    "import seaborn as sns\n",
    "import numpy as np\n",
    "import pandas as pd\n",
    "import warnings \n",
    "warnings.filterwarnings(\"ignore\")"
   ]
  },
  {
   "cell_type": "code",
   "execution_count": 2,
   "id": "theoretical-scanner",
   "metadata": {},
   "outputs": [],
   "source": [
    "df = dd.read_csv(\"archive/For_modeling.csv\")"
   ]
  },
  {
   "cell_type": "code",
   "execution_count": 3,
   "id": "average-airline",
   "metadata": {},
   "outputs": [],
   "source": [
    "df = df.drop(\"Unnamed: 0\",axis=1)"
   ]
  },
  {
   "cell_type": "code",
   "execution_count": 4,
   "id": "healthy-bidding",
   "metadata": {},
   "outputs": [
    {
     "data": {
      "text/html": [
       "<div>\n",
       "<style scoped>\n",
       "    .dataframe tbody tr th:only-of-type {\n",
       "        vertical-align: middle;\n",
       "    }\n",
       "\n",
       "    .dataframe tbody tr th {\n",
       "        vertical-align: top;\n",
       "    }\n",
       "\n",
       "    .dataframe thead th {\n",
       "        text-align: right;\n",
       "    }\n",
       "</style>\n",
       "<table border=\"1\" class=\"dataframe\">\n",
       "  <thead>\n",
       "    <tr style=\"text-align: right;\">\n",
       "      <th></th>\n",
       "      <th>Duration</th>\n",
       "      <th>Distance</th>\n",
       "      <th>PLong</th>\n",
       "      <th>PLatd</th>\n",
       "      <th>DLong</th>\n",
       "      <th>DLatd</th>\n",
       "      <th>Haversine</th>\n",
       "      <th>Pmonth</th>\n",
       "      <th>Pday</th>\n",
       "      <th>Phour</th>\n",
       "      <th>...</th>\n",
       "      <th>Dmin</th>\n",
       "      <th>DDweek</th>\n",
       "      <th>Temp</th>\n",
       "      <th>Precip</th>\n",
       "      <th>Wind</th>\n",
       "      <th>Humid</th>\n",
       "      <th>Solar</th>\n",
       "      <th>Snow</th>\n",
       "      <th>GroundTemp</th>\n",
       "      <th>Dust</th>\n",
       "    </tr>\n",
       "  </thead>\n",
       "  <tbody>\n",
       "    <tr>\n",
       "      <th>0</th>\n",
       "      <td>3</td>\n",
       "      <td>50</td>\n",
       "      <td>37.544666</td>\n",
       "      <td>126.888359</td>\n",
       "      <td>37.544666</td>\n",
       "      <td>126.888359</td>\n",
       "      <td>0.000000</td>\n",
       "      <td>1</td>\n",
       "      <td>1</td>\n",
       "      <td>0</td>\n",
       "      <td>...</td>\n",
       "      <td>4</td>\n",
       "      <td>0</td>\n",
       "      <td>-3.2</td>\n",
       "      <td>0.0</td>\n",
       "      <td>0.5</td>\n",
       "      <td>40.0</td>\n",
       "      <td>0.0</td>\n",
       "      <td>0.0</td>\n",
       "      <td>-2.2</td>\n",
       "      <td>25.0</td>\n",
       "    </tr>\n",
       "    <tr>\n",
       "      <th>1</th>\n",
       "      <td>24</td>\n",
       "      <td>7670</td>\n",
       "      <td>37.506199</td>\n",
       "      <td>127.003944</td>\n",
       "      <td>37.551250</td>\n",
       "      <td>127.035103</td>\n",
       "      <td>5.713529</td>\n",
       "      <td>1</td>\n",
       "      <td>1</td>\n",
       "      <td>0</td>\n",
       "      <td>...</td>\n",
       "      <td>25</td>\n",
       "      <td>0</td>\n",
       "      <td>-3.2</td>\n",
       "      <td>0.0</td>\n",
       "      <td>0.5</td>\n",
       "      <td>40.0</td>\n",
       "      <td>0.0</td>\n",
       "      <td>0.0</td>\n",
       "      <td>-2.2</td>\n",
       "      <td>25.0</td>\n",
       "    </tr>\n",
       "    <tr>\n",
       "      <th>2</th>\n",
       "      <td>8</td>\n",
       "      <td>1390</td>\n",
       "      <td>37.544590</td>\n",
       "      <td>127.057083</td>\n",
       "      <td>37.537014</td>\n",
       "      <td>127.061096</td>\n",
       "      <td>0.913702</td>\n",
       "      <td>1</td>\n",
       "      <td>1</td>\n",
       "      <td>0</td>\n",
       "      <td>...</td>\n",
       "      <td>9</td>\n",
       "      <td>0</td>\n",
       "      <td>-3.2</td>\n",
       "      <td>0.0</td>\n",
       "      <td>0.5</td>\n",
       "      <td>40.0</td>\n",
       "      <td>0.0</td>\n",
       "      <td>0.0</td>\n",
       "      <td>-2.2</td>\n",
       "      <td>25.0</td>\n",
       "    </tr>\n",
       "    <tr>\n",
       "      <th>3</th>\n",
       "      <td>8</td>\n",
       "      <td>1820</td>\n",
       "      <td>37.571102</td>\n",
       "      <td>127.023560</td>\n",
       "      <td>37.561447</td>\n",
       "      <td>127.034920</td>\n",
       "      <td>1.468027</td>\n",
       "      <td>1</td>\n",
       "      <td>1</td>\n",
       "      <td>0</td>\n",
       "      <td>...</td>\n",
       "      <td>10</td>\n",
       "      <td>0</td>\n",
       "      <td>-3.2</td>\n",
       "      <td>0.0</td>\n",
       "      <td>0.5</td>\n",
       "      <td>40.0</td>\n",
       "      <td>0.0</td>\n",
       "      <td>0.0</td>\n",
       "      <td>-2.2</td>\n",
       "      <td>25.0</td>\n",
       "    </tr>\n",
       "    <tr>\n",
       "      <th>4</th>\n",
       "      <td>4</td>\n",
       "      <td>850</td>\n",
       "      <td>37.573242</td>\n",
       "      <td>127.015907</td>\n",
       "      <td>37.565849</td>\n",
       "      <td>127.016403</td>\n",
       "      <td>0.823227</td>\n",
       "      <td>1</td>\n",
       "      <td>1</td>\n",
       "      <td>0</td>\n",
       "      <td>...</td>\n",
       "      <td>6</td>\n",
       "      <td>0</td>\n",
       "      <td>-3.2</td>\n",
       "      <td>0.0</td>\n",
       "      <td>0.5</td>\n",
       "      <td>40.0</td>\n",
       "      <td>0.0</td>\n",
       "      <td>0.0</td>\n",
       "      <td>-2.2</td>\n",
       "      <td>25.0</td>\n",
       "    </tr>\n",
       "  </tbody>\n",
       "</table>\n",
       "<p>5 rows × 25 columns</p>\n",
       "</div>"
      ],
      "text/plain": [
       "   Duration  Distance      PLong       PLatd      DLong       DLatd  \\\n",
       "0         3        50  37.544666  126.888359  37.544666  126.888359   \n",
       "1        24      7670  37.506199  127.003944  37.551250  127.035103   \n",
       "2         8      1390  37.544590  127.057083  37.537014  127.061096   \n",
       "3         8      1820  37.571102  127.023560  37.561447  127.034920   \n",
       "4         4       850  37.573242  127.015907  37.565849  127.016403   \n",
       "\n",
       "   Haversine  Pmonth  Pday  Phour  ...  Dmin  DDweek  Temp  Precip  Wind  \\\n",
       "0   0.000000       1     1      0  ...     4       0  -3.2     0.0   0.5   \n",
       "1   5.713529       1     1      0  ...    25       0  -3.2     0.0   0.5   \n",
       "2   0.913702       1     1      0  ...     9       0  -3.2     0.0   0.5   \n",
       "3   1.468027       1     1      0  ...    10       0  -3.2     0.0   0.5   \n",
       "4   0.823227       1     1      0  ...     6       0  -3.2     0.0   0.5   \n",
       "\n",
       "   Humid  Solar  Snow  GroundTemp  Dust  \n",
       "0   40.0    0.0   0.0        -2.2  25.0  \n",
       "1   40.0    0.0   0.0        -2.2  25.0  \n",
       "2   40.0    0.0   0.0        -2.2  25.0  \n",
       "3   40.0    0.0   0.0        -2.2  25.0  \n",
       "4   40.0    0.0   0.0        -2.2  25.0  \n",
       "\n",
       "[5 rows x 25 columns]"
      ]
     },
     "execution_count": 4,
     "metadata": {},
     "output_type": "execute_result"
    }
   ],
   "source": [
    "df.head()"
   ]
  },
  {
   "cell_type": "markdown",
   "id": "desirable-refrigerator",
   "metadata": {},
   "source": [
    "This data contains Seoul Bike data and weather data. In other words combining of bike and\n",
    "weather data"
   ]
  },
  {
   "cell_type": "code",
   "execution_count": 5,
   "id": "quick-polls",
   "metadata": {
    "scrolled": true
   },
   "outputs": [
    {
     "data": {
      "text/plain": [
       "Index(['Duration', 'Distance', 'PLong', 'PLatd', 'DLong', 'DLatd', 'Haversine',\n",
       "       'Pmonth', 'Pday', 'Phour', 'Pmin', 'PDweek', 'Dmonth', 'Dday', 'Dhour',\n",
       "       'Dmin', 'DDweek', 'Temp', 'Precip', 'Wind', 'Humid', 'Solar', 'Snow',\n",
       "       'GroundTemp', 'Dust'],\n",
       "      dtype='object')"
      ]
     },
     "execution_count": 5,
     "metadata": {},
     "output_type": "execute_result"
    }
   ],
   "source": [
    "df.columns"
   ]
  },
  {
   "cell_type": "code",
   "execution_count": 6,
   "id": "passing-monkey",
   "metadata": {},
   "outputs": [
    {
     "data": {
      "text/plain": [
       "False"
      ]
     },
     "execution_count": 6,
     "metadata": {},
     "output_type": "execute_result"
    }
   ],
   "source": [
    "# There is no null values\n",
    "\n",
    "df.isna().sum().any().compute()"
   ]
  },
  {
   "cell_type": "code",
   "execution_count": 7,
   "id": "peripheral-lloyd",
   "metadata": {},
   "outputs": [],
   "source": [
    "# To avoid oversubscribing threads. \n",
    "# To divide all processes to one core.\n",
    "\n",
    "!export OMP_NUM_THREADS=1\n",
    "!export MKL_NUM_THREADS=1\n",
    "!export OPENBLAS_NUM_THREADS=1"
   ]
  },
  {
   "cell_type": "markdown",
   "id": "cultural-archives",
   "metadata": {},
   "source": [
    "Testing if dask array could be faster for mean process than dataframe but they took same time."
   ]
  },
  {
   "cell_type": "code",
   "execution_count": 8,
   "id": "different-ground",
   "metadata": {},
   "outputs": [
    {
     "name": "stdout",
     "output_type": "stream",
     "text": [
      "5.43 s ± 99.5 ms per loop (mean ± std. dev. of 7 runs, 1 loop each)\n"
     ]
    }
   ],
   "source": [
    "%%timeit \n",
    "df[\"Duration\"].mean().compute()"
   ]
  },
  {
   "cell_type": "code",
   "execution_count": 9,
   "id": "supported-custom",
   "metadata": {
    "scrolled": true
   },
   "outputs": [
    {
     "name": "stdout",
     "output_type": "stream",
     "text": [
      "5.39 s ± 44.3 ms per loop (mean ± std. dev. of 7 runs, 1 loop each)\n"
     ]
    }
   ],
   "source": [
    "%%timeit\n",
    "new_arr = da.from_array(df[\"Duration\"].compute().values,\\\n",
    "                    chunks=(1000000,))\n",
    "new_arr.mean().compute()"
   ]
  },
  {
   "cell_type": "markdown",
   "id": "brazilian-collective",
   "metadata": {},
   "source": [
    "Get the shape of dask dataframe."
   ]
  },
  {
   "cell_type": "code",
   "execution_count": 10,
   "id": "varying-contrary",
   "metadata": {},
   "outputs": [
    {
     "name": "stdout",
     "output_type": "stream",
     "text": [
      "(9601139,25)\n"
     ]
    }
   ],
   "source": [
    "def get_df_shape(df=None):\n",
    "    print(f\"({df.shape[0].compute()},{df.shape[1]})\")\n",
    "    \n",
    "get_df_shape(df)"
   ]
  },
  {
   "cell_type": "code",
   "execution_count": 11,
   "id": "exciting-reply",
   "metadata": {},
   "outputs": [
    {
     "data": {
      "text/plain": [
       "Duration        int64\n",
       "Distance        int64\n",
       "PLong         float64\n",
       "PLatd         float64\n",
       "DLong         float64\n",
       "DLatd         float64\n",
       "Haversine     float64\n",
       "Pmonth          int64\n",
       "Pday            int64\n",
       "Phour           int64\n",
       "Pmin            int64\n",
       "PDweek          int64\n",
       "Dmonth          int64\n",
       "Dday            int64\n",
       "Dhour           int64\n",
       "Dmin            int64\n",
       "DDweek          int64\n",
       "Temp          float64\n",
       "Precip        float64\n",
       "Wind          float64\n",
       "Humid         float64\n",
       "Solar         float64\n",
       "Snow          float64\n",
       "GroundTemp    float64\n",
       "Dust          float64\n",
       "dtype: object"
      ]
     },
     "execution_count": 11,
     "metadata": {},
     "output_type": "execute_result"
    }
   ],
   "source": [
    "df.dtypes"
   ]
  },
  {
   "cell_type": "markdown",
   "id": "secondary-voltage",
   "metadata": {},
   "source": [
    "Dask doesn't get all data because of that you can not select rows using iloc. So because of that we create a new column named index with unique numbers. So by this way we can select rows too. Create a pandas dataframe after that add a new column that contains unique numbers. After that query. "
   ]
  },
  {
   "cell_type": "code",
   "execution_count": 12,
   "id": "resident-update",
   "metadata": {},
   "outputs": [],
   "source": [
    "df_2 = df.compute()"
   ]
  },
  {
   "cell_type": "code",
   "execution_count": 13,
   "id": "brown-hawaiian",
   "metadata": {},
   "outputs": [],
   "source": [
    "df_2[\"index\"] = list(range(0, len(df)))"
   ]
  },
  {
   "cell_type": "code",
   "execution_count": 14,
   "id": "distant-breakfast",
   "metadata": {},
   "outputs": [],
   "source": [
    "df_2 = dd.from_pandas(df_2,npartitions=2)"
   ]
  },
  {
   "cell_type": "markdown",
   "id": "overhead-migration",
   "metadata": {},
   "source": [
    "Slicing. Using range and changing it you can select rows."
   ]
  },
  {
   "cell_type": "code",
   "execution_count": 15,
   "id": "laughing-cradle",
   "metadata": {},
   "outputs": [
    {
     "data": {
      "text/html": [
       "<div>\n",
       "<style scoped>\n",
       "    .dataframe tbody tr th:only-of-type {\n",
       "        vertical-align: middle;\n",
       "    }\n",
       "\n",
       "    .dataframe tbody tr th {\n",
       "        vertical-align: top;\n",
       "    }\n",
       "\n",
       "    .dataframe thead th {\n",
       "        text-align: right;\n",
       "    }\n",
       "</style>\n",
       "<table border=\"1\" class=\"dataframe\">\n",
       "  <thead>\n",
       "    <tr style=\"text-align: right;\">\n",
       "      <th></th>\n",
       "      <th>Duration</th>\n",
       "      <th>Distance</th>\n",
       "    </tr>\n",
       "  </thead>\n",
       "  <tbody>\n",
       "    <tr>\n",
       "      <th>8</th>\n",
       "      <td>3</td>\n",
       "      <td>950</td>\n",
       "    </tr>\n",
       "    <tr>\n",
       "      <th>9</th>\n",
       "      <td>25</td>\n",
       "      <td>3900</td>\n",
       "    </tr>\n",
       "    <tr>\n",
       "      <th>10</th>\n",
       "      <td>27</td>\n",
       "      <td>4750</td>\n",
       "    </tr>\n",
       "    <tr>\n",
       "      <th>11</th>\n",
       "      <td>23</td>\n",
       "      <td>4820</td>\n",
       "    </tr>\n",
       "    <tr>\n",
       "      <th>12</th>\n",
       "      <td>16</td>\n",
       "      <td>2930</td>\n",
       "    </tr>\n",
       "    <tr>\n",
       "      <th>13</th>\n",
       "      <td>30</td>\n",
       "      <td>5140</td>\n",
       "    </tr>\n",
       "    <tr>\n",
       "      <th>14</th>\n",
       "      <td>11</td>\n",
       "      <td>1800</td>\n",
       "    </tr>\n",
       "  </tbody>\n",
       "</table>\n",
       "</div>"
      ],
      "text/plain": [
       "    Duration  Distance\n",
       "8          3       950\n",
       "9         25      3900\n",
       "10        27      4750\n",
       "11        23      4820\n",
       "12        16      2930\n",
       "13        30      5140\n",
       "14        11      1800"
      ]
     },
     "execution_count": 15,
     "metadata": {},
     "output_type": "execute_result"
    }
   ],
   "source": [
    "df_2[df_2[\"index\"].isin(range(8,15))][[\"Duration\",\"Distance\"]].compute()"
   ]
  },
  {
   "cell_type": "code",
   "execution_count": 16,
   "id": "varying-preservation",
   "metadata": {},
   "outputs": [
    {
     "data": {
      "text/html": [
       "<div>\n",
       "<style scoped>\n",
       "    .dataframe tbody tr th:only-of-type {\n",
       "        vertical-align: middle;\n",
       "    }\n",
       "\n",
       "    .dataframe tbody tr th {\n",
       "        vertical-align: top;\n",
       "    }\n",
       "\n",
       "    .dataframe thead th {\n",
       "        text-align: right;\n",
       "    }\n",
       "</style>\n",
       "<table border=\"1\" class=\"dataframe\">\n",
       "  <thead>\n",
       "    <tr style=\"text-align: right;\">\n",
       "      <th></th>\n",
       "      <th>Duration</th>\n",
       "      <th>Distance</th>\n",
       "      <th>PLong</th>\n",
       "      <th>PLatd</th>\n",
       "      <th>DLong</th>\n",
       "      <th>DLatd</th>\n",
       "      <th>Haversine</th>\n",
       "      <th>Pmonth</th>\n",
       "      <th>Pday</th>\n",
       "      <th>Phour</th>\n",
       "    </tr>\n",
       "  </thead>\n",
       "  <tbody>\n",
       "    <tr>\n",
       "      <th>8</th>\n",
       "      <td>3</td>\n",
       "      <td>950</td>\n",
       "      <td>37.459953</td>\n",
       "      <td>127.024742</td>\n",
       "      <td>37.455799</td>\n",
       "      <td>127.016289</td>\n",
       "      <td>0.877524</td>\n",
       "      <td>1</td>\n",
       "      <td>1</td>\n",
       "      <td>0</td>\n",
       "    </tr>\n",
       "    <tr>\n",
       "      <th>9</th>\n",
       "      <td>25</td>\n",
       "      <td>3900</td>\n",
       "      <td>37.527122</td>\n",
       "      <td>127.028717</td>\n",
       "      <td>37.539654</td>\n",
       "      <td>127.052589</td>\n",
       "      <td>2.524430</td>\n",
       "      <td>1</td>\n",
       "      <td>1</td>\n",
       "      <td>0</td>\n",
       "    </tr>\n",
       "    <tr>\n",
       "      <th>10</th>\n",
       "      <td>27</td>\n",
       "      <td>4750</td>\n",
       "      <td>37.570721</td>\n",
       "      <td>126.898979</td>\n",
       "      <td>37.578072</td>\n",
       "      <td>126.930817</td>\n",
       "      <td>2.922488</td>\n",
       "      <td>1</td>\n",
       "      <td>1</td>\n",
       "      <td>0</td>\n",
       "    </tr>\n",
       "    <tr>\n",
       "      <th>11</th>\n",
       "      <td>23</td>\n",
       "      <td>4820</td>\n",
       "      <td>37.570721</td>\n",
       "      <td>126.898979</td>\n",
       "      <td>37.578072</td>\n",
       "      <td>126.930817</td>\n",
       "      <td>2.922488</td>\n",
       "      <td>1</td>\n",
       "      <td>1</td>\n",
       "      <td>0</td>\n",
       "    </tr>\n",
       "    <tr>\n",
       "      <th>12</th>\n",
       "      <td>16</td>\n",
       "      <td>2930</td>\n",
       "      <td>37.599491</td>\n",
       "      <td>126.916862</td>\n",
       "      <td>37.620949</td>\n",
       "      <td>126.925636</td>\n",
       "      <td>2.508075</td>\n",
       "      <td>1</td>\n",
       "      <td>1</td>\n",
       "      <td>0</td>\n",
       "    </tr>\n",
       "    <tr>\n",
       "      <th>13</th>\n",
       "      <td>30</td>\n",
       "      <td>5140</td>\n",
       "      <td>37.512169</td>\n",
       "      <td>127.078934</td>\n",
       "      <td>37.483311</td>\n",
       "      <td>127.084938</td>\n",
       "      <td>3.252289</td>\n",
       "      <td>1</td>\n",
       "      <td>1</td>\n",
       "      <td>0</td>\n",
       "    </tr>\n",
       "    <tr>\n",
       "      <th>14</th>\n",
       "      <td>11</td>\n",
       "      <td>1800</td>\n",
       "      <td>37.525650</td>\n",
       "      <td>126.887817</td>\n",
       "      <td>37.535961</td>\n",
       "      <td>126.898300</td>\n",
       "      <td>1.472768</td>\n",
       "      <td>1</td>\n",
       "      <td>1</td>\n",
       "      <td>0</td>\n",
       "    </tr>\n",
       "  </tbody>\n",
       "</table>\n",
       "</div>"
      ],
      "text/plain": [
       "    Duration  Distance      PLong       PLatd      DLong       DLatd  \\\n",
       "8          3       950  37.459953  127.024742  37.455799  127.016289   \n",
       "9         25      3900  37.527122  127.028717  37.539654  127.052589   \n",
       "10        27      4750  37.570721  126.898979  37.578072  126.930817   \n",
       "11        23      4820  37.570721  126.898979  37.578072  126.930817   \n",
       "12        16      2930  37.599491  126.916862  37.620949  126.925636   \n",
       "13        30      5140  37.512169  127.078934  37.483311  127.084938   \n",
       "14        11      1800  37.525650  126.887817  37.535961  126.898300   \n",
       "\n",
       "    Haversine  Pmonth  Pday  Phour  \n",
       "8    0.877524       1     1      0  \n",
       "9    2.524430       1     1      0  \n",
       "10   2.922488       1     1      0  \n",
       "11   2.922488       1     1      0  \n",
       "12   2.508075       1     1      0  \n",
       "13   3.252289       1     1      0  \n",
       "14   1.472768       1     1      0  "
      ]
     },
     "execution_count": 16,
     "metadata": {},
     "output_type": "execute_result"
    }
   ],
   "source": [
    "df_2[df_2[\"index\"].isin(range(8,15))].iloc[:,:10].compute()"
   ]
  },
  {
   "cell_type": "code",
   "execution_count": 17,
   "id": "judicial-detection",
   "metadata": {},
   "outputs": [
    {
     "data": {
      "text/html": [
       "<div>\n",
       "<style scoped>\n",
       "    .dataframe tbody tr th:only-of-type {\n",
       "        vertical-align: middle;\n",
       "    }\n",
       "\n",
       "    .dataframe tbody tr th {\n",
       "        vertical-align: top;\n",
       "    }\n",
       "\n",
       "    .dataframe thead th {\n",
       "        text-align: right;\n",
       "    }\n",
       "</style>\n",
       "<table border=\"1\" class=\"dataframe\">\n",
       "  <thead>\n",
       "    <tr style=\"text-align: right;\">\n",
       "      <th></th>\n",
       "      <th>Pmin</th>\n",
       "      <th>PDweek</th>\n",
       "      <th>Dmonth</th>\n",
       "      <th>Dday</th>\n",
       "      <th>Dhour</th>\n",
       "      <th>Dmin</th>\n",
       "      <th>DDweek</th>\n",
       "      <th>Temp</th>\n",
       "      <th>Precip</th>\n",
       "      <th>Wind</th>\n",
       "    </tr>\n",
       "  </thead>\n",
       "  <tbody>\n",
       "    <tr>\n",
       "      <th>8</th>\n",
       "      <td>2</td>\n",
       "      <td>0</td>\n",
       "      <td>1</td>\n",
       "      <td>1</td>\n",
       "      <td>0</td>\n",
       "      <td>5</td>\n",
       "      <td>0</td>\n",
       "      <td>-3.2</td>\n",
       "      <td>0.0</td>\n",
       "      <td>0.5</td>\n",
       "    </tr>\n",
       "    <tr>\n",
       "      <th>9</th>\n",
       "      <td>2</td>\n",
       "      <td>0</td>\n",
       "      <td>1</td>\n",
       "      <td>1</td>\n",
       "      <td>0</td>\n",
       "      <td>28</td>\n",
       "      <td>0</td>\n",
       "      <td>-3.2</td>\n",
       "      <td>0.0</td>\n",
       "      <td>0.5</td>\n",
       "    </tr>\n",
       "    <tr>\n",
       "      <th>10</th>\n",
       "      <td>2</td>\n",
       "      <td>0</td>\n",
       "      <td>1</td>\n",
       "      <td>1</td>\n",
       "      <td>0</td>\n",
       "      <td>30</td>\n",
       "      <td>0</td>\n",
       "      <td>-3.2</td>\n",
       "      <td>0.0</td>\n",
       "      <td>0.5</td>\n",
       "    </tr>\n",
       "    <tr>\n",
       "      <th>11</th>\n",
       "      <td>3</td>\n",
       "      <td>0</td>\n",
       "      <td>1</td>\n",
       "      <td>1</td>\n",
       "      <td>0</td>\n",
       "      <td>30</td>\n",
       "      <td>0</td>\n",
       "      <td>-3.2</td>\n",
       "      <td>0.0</td>\n",
       "      <td>0.5</td>\n",
       "    </tr>\n",
       "    <tr>\n",
       "      <th>12</th>\n",
       "      <td>3</td>\n",
       "      <td>0</td>\n",
       "      <td>1</td>\n",
       "      <td>1</td>\n",
       "      <td>0</td>\n",
       "      <td>20</td>\n",
       "      <td>0</td>\n",
       "      <td>-3.2</td>\n",
       "      <td>0.0</td>\n",
       "      <td>0.5</td>\n",
       "    </tr>\n",
       "    <tr>\n",
       "      <th>13</th>\n",
       "      <td>5</td>\n",
       "      <td>0</td>\n",
       "      <td>1</td>\n",
       "      <td>1</td>\n",
       "      <td>0</td>\n",
       "      <td>36</td>\n",
       "      <td>0</td>\n",
       "      <td>-3.2</td>\n",
       "      <td>0.0</td>\n",
       "      <td>0.5</td>\n",
       "    </tr>\n",
       "    <tr>\n",
       "      <th>14</th>\n",
       "      <td>5</td>\n",
       "      <td>0</td>\n",
       "      <td>1</td>\n",
       "      <td>1</td>\n",
       "      <td>0</td>\n",
       "      <td>17</td>\n",
       "      <td>0</td>\n",
       "      <td>-3.2</td>\n",
       "      <td>0.0</td>\n",
       "      <td>0.5</td>\n",
       "    </tr>\n",
       "  </tbody>\n",
       "</table>\n",
       "</div>"
      ],
      "text/plain": [
       "    Pmin  PDweek  Dmonth  Dday  Dhour  Dmin  DDweek  Temp  Precip  Wind\n",
       "8      2       0       1     1      0     5       0  -3.2     0.0   0.5\n",
       "9      2       0       1     1      0    28       0  -3.2     0.0   0.5\n",
       "10     2       0       1     1      0    30       0  -3.2     0.0   0.5\n",
       "11     3       0       1     1      0    30       0  -3.2     0.0   0.5\n",
       "12     3       0       1     1      0    20       0  -3.2     0.0   0.5\n",
       "13     5       0       1     1      0    36       0  -3.2     0.0   0.5\n",
       "14     5       0       1     1      0    17       0  -3.2     0.0   0.5"
      ]
     },
     "execution_count": 17,
     "metadata": {},
     "output_type": "execute_result"
    }
   ],
   "source": [
    "df_2[df_2[\"index\"].isin(range(8,15))].iloc[:,10:20].compute()"
   ]
  },
  {
   "cell_type": "code",
   "execution_count": 18,
   "id": "rubber-orchestra",
   "metadata": {},
   "outputs": [
    {
     "data": {
      "text/html": [
       "<div>\n",
       "<style scoped>\n",
       "    .dataframe tbody tr th:only-of-type {\n",
       "        vertical-align: middle;\n",
       "    }\n",
       "\n",
       "    .dataframe tbody tr th {\n",
       "        vertical-align: top;\n",
       "    }\n",
       "\n",
       "    .dataframe thead th {\n",
       "        text-align: right;\n",
       "    }\n",
       "</style>\n",
       "<table border=\"1\" class=\"dataframe\">\n",
       "  <thead>\n",
       "    <tr style=\"text-align: right;\">\n",
       "      <th></th>\n",
       "      <th>Humid</th>\n",
       "      <th>Solar</th>\n",
       "      <th>Snow</th>\n",
       "      <th>GroundTemp</th>\n",
       "      <th>Dust</th>\n",
       "      <th>index</th>\n",
       "    </tr>\n",
       "  </thead>\n",
       "  <tbody>\n",
       "    <tr>\n",
       "      <th>8</th>\n",
       "      <td>40.0</td>\n",
       "      <td>0.0</td>\n",
       "      <td>0.0</td>\n",
       "      <td>-2.2</td>\n",
       "      <td>25.0</td>\n",
       "      <td>8</td>\n",
       "    </tr>\n",
       "    <tr>\n",
       "      <th>9</th>\n",
       "      <td>40.0</td>\n",
       "      <td>0.0</td>\n",
       "      <td>0.0</td>\n",
       "      <td>-2.2</td>\n",
       "      <td>25.0</td>\n",
       "      <td>9</td>\n",
       "    </tr>\n",
       "    <tr>\n",
       "      <th>10</th>\n",
       "      <td>40.0</td>\n",
       "      <td>0.0</td>\n",
       "      <td>0.0</td>\n",
       "      <td>-2.2</td>\n",
       "      <td>25.0</td>\n",
       "      <td>10</td>\n",
       "    </tr>\n",
       "    <tr>\n",
       "      <th>11</th>\n",
       "      <td>40.0</td>\n",
       "      <td>0.0</td>\n",
       "      <td>0.0</td>\n",
       "      <td>-2.2</td>\n",
       "      <td>25.0</td>\n",
       "      <td>11</td>\n",
       "    </tr>\n",
       "    <tr>\n",
       "      <th>12</th>\n",
       "      <td>40.0</td>\n",
       "      <td>0.0</td>\n",
       "      <td>0.0</td>\n",
       "      <td>-2.2</td>\n",
       "      <td>25.0</td>\n",
       "      <td>12</td>\n",
       "    </tr>\n",
       "    <tr>\n",
       "      <th>13</th>\n",
       "      <td>40.0</td>\n",
       "      <td>0.0</td>\n",
       "      <td>0.0</td>\n",
       "      <td>-2.2</td>\n",
       "      <td>25.0</td>\n",
       "      <td>13</td>\n",
       "    </tr>\n",
       "    <tr>\n",
       "      <th>14</th>\n",
       "      <td>40.0</td>\n",
       "      <td>0.0</td>\n",
       "      <td>0.0</td>\n",
       "      <td>-2.2</td>\n",
       "      <td>25.0</td>\n",
       "      <td>14</td>\n",
       "    </tr>\n",
       "  </tbody>\n",
       "</table>\n",
       "</div>"
      ],
      "text/plain": [
       "    Humid  Solar  Snow  GroundTemp  Dust  index\n",
       "8    40.0    0.0   0.0        -2.2  25.0      8\n",
       "9    40.0    0.0   0.0        -2.2  25.0      9\n",
       "10   40.0    0.0   0.0        -2.2  25.0     10\n",
       "11   40.0    0.0   0.0        -2.2  25.0     11\n",
       "12   40.0    0.0   0.0        -2.2  25.0     12\n",
       "13   40.0    0.0   0.0        -2.2  25.0     13\n",
       "14   40.0    0.0   0.0        -2.2  25.0     14"
      ]
     },
     "execution_count": 18,
     "metadata": {},
     "output_type": "execute_result"
    }
   ],
   "source": [
    "df_2[df_2[\"index\"].isin(range(8,15))].iloc[:,20:].compute()"
   ]
  },
  {
   "cell_type": "markdown",
   "id": "phantom-rapid",
   "metadata": {},
   "source": [
    "Unique months."
   ]
  },
  {
   "cell_type": "code",
   "execution_count": 19,
   "id": "dressed-minimum",
   "metadata": {
    "scrolled": true
   },
   "outputs": [
    {
     "data": {
      "text/plain": [
       "[1, 2, 3, 4, 5, 6, 7, 8, 9, 10, 11, 12]"
      ]
     },
     "execution_count": 19,
     "metadata": {},
     "output_type": "execute_result"
    }
   ],
   "source": [
    "sorted(df_2[\"Pmonth\"].unique())"
   ]
  },
  {
   "cell_type": "markdown",
   "id": "creative-cosmetic",
   "metadata": {},
   "source": [
    "Summations of distances' depending on months. Longest trip duration time on 9th and 10th months."
   ]
  },
  {
   "cell_type": "code",
   "execution_count": 20,
   "id": "acute-identification",
   "metadata": {},
   "outputs": [],
   "source": [
    "pmonth_duration = df_2.groupby(\"Pmonth\").sum()[\"Duration\"].compute()"
   ]
  },
  {
   "cell_type": "code",
   "execution_count": 21,
   "id": "contained-education",
   "metadata": {
    "scrolled": false
   },
   "outputs": [
    {
     "data": {
      "image/png": "[encoded data removed]",
      "text/plain": [
       "<Figure size 432x288 with 1 Axes>"
      ]
     },
     "metadata": {
      "needs_background": "light"
     },
     "output_type": "display_data"
    }
   ],
   "source": [
    "plt.bar(pmonth_duration.keys(), pmonth_duration)\n",
    "plt.xlabel(\"Months\")\n",
    "plt.ylabel(\"Distance Sums\")\n",
    "plt.show()"
   ]
  },
  {
   "cell_type": "markdown",
   "id": "independent-implementation",
   "metadata": {},
   "source": [
    "Use dask array to compute Normalization. Normalize all the columns."
   ]
  },
  {
   "cell_type": "code",
   "execution_count": 22,
   "id": "rising-michael",
   "metadata": {},
   "outputs": [],
   "source": [
    "arr = da.from_array(df_2[\"Duration\"].compute().values,chunks=(1000000,))"
   ]
  },
  {
   "cell_type": "code",
   "execution_count": 23,
   "id": "ceramic-funds",
   "metadata": {},
   "outputs": [
    {
     "name": "stdout",
     "output_type": "stream",
     "text": [
      "CPU times: user 34.6 ms, sys: 0 ns, total: 34.6 ms\n",
      "Wall time: 7.35 ms\n"
     ]
    },
    {
     "data": {
      "text/plain": [
       "1"
      ]
     },
     "execution_count": 23,
     "metadata": {},
     "output_type": "execute_result"
    }
   ],
   "source": [
    "%time arr.min().compute()"
   ]
  },
  {
   "cell_type": "code",
   "execution_count": 24,
   "id": "armed-experiment",
   "metadata": {},
   "outputs": [
    {
     "name": "stdout",
     "output_type": "stream",
     "text": [
      "CPU times: user 607 ms, sys: 7.92 ms, total: 615 ms\n",
      "Wall time: 617 ms\n"
     ]
    },
    {
     "data": {
      "text/plain": [
       "1"
      ]
     },
     "execution_count": 24,
     "metadata": {},
     "output_type": "execute_result"
    }
   ],
   "source": [
    "%time min(arr.compute())"
   ]
  },
  {
   "cell_type": "code",
   "execution_count": null,
   "id": "adult-success",
   "metadata": {},
   "outputs": [],
   "source": [
    "# Normalizing columns to [0-1] range.\n",
    "\n",
    "for col in df_2.columns:\n",
    "    if col==\"index\":\n",
    "        pass\n",
    "    else:\n",
    "        arr = da.from_array(df_2[col].compute().values,chunks=(1000000,))\n",
    "        min_arr = arr.min()\n",
    "        max_arr = arr.max()\n",
    "        normalized_arr = (arr-min_arr)/(max_arr-min_arr)\n",
    "        normalized_arr = normalized_arr.compute()\n",
    "        col_name = \"{}_n\".format(col)\n",
    "        df_2[f\"{col_name}\"] = dd.from_array(normalized_arr)"
   ]
  },
  {
   "cell_type": "markdown",
   "id": "hazardous-refund",
   "metadata": {},
   "source": [
    "Plot boxplot of all columns'."
   ]
  },
  {
   "cell_type": "code",
   "execution_count": 26,
   "id": "superb-plastic",
   "metadata": {
    "scrolled": true
   },
   "outputs": [
    {
     "data": {
      "image/png": "[encoded data removed]",
      "text/plain": [
       "<Figure size 432x288 with 1 Axes>"
      ]
     },
     "metadata": {
      "needs_background": "light"
     },
     "output_type": "display_data"
    },
    {
     "data": {
      "image/png": "[encoded data removed]",
      "text/plain": [
       "<Figure size 432x288 with 1 Axes>"
      ]
     },
     "metadata": {
      "needs_background": "light"
     },
     "output_type": "display_data"
    },
    {
     "data": {
      "image/png": "[encoded data removed]",
      "text/plain": [
       "<Figure size 432x288 with 1 Axes>"
      ]
     },
     "metadata": {
      "needs_background": "light"
     },
     "output_type": "display_data"
    },
    {
     "data": {
      "image/png": "[encoded data removed]",
      "text/plain": [
       "<Figure size 432x288 with 1 Axes>"
      ]
     },
     "metadata": {
      "needs_background": "light"
     },
     "output_type": "display_data"
    },
    {
     "data": {
      "image/png": "[encoded data removed]",
      "text/plain": [
       "<Figure size 432x288 with 1 Axes>"
      ]
     },
     "metadata": {
      "needs_background": "light"
     },
     "output_type": "display_data"
    },
    {
     "data": {
      "image/png": "[encoded data removed]",
      "text/plain": [
       "<Figure size 432x288 with 1 Axes>"
      ]
     },
     "metadata": {
      "needs_background": "light"
     },
     "output_type": "display_data"
    },
    {
     "data": {
      "image/png": "[encoded data removed]",
      "text/plain": [
       "<Figure size 432x288 with 1 Axes>"
      ]
     },
     "metadata": {
      "needs_background": "light"
     },
     "output_type": "display_data"
    },
    {
     "data": {
      "image/png": "[encoded data removed]",
      "text/plain": [
       "<Figure size 432x288 with 1 Axes>"
      ]
     },
     "metadata": {
      "needs_background": "light"
     },
     "output_type": "display_data"
    },
    {
     "data": {
      "image/png": "[encoded data removed]",
      "text/plain": [
       "<Figure size 432x288 with 1 Axes>"
      ]
     },
     "metadata": {
      "needs_background": "light"
     },
     "output_type": "display_data"
    },
    {
     "data": {
      "image/png": "[encoded data removed]",
      "text/plain": [
       "<Figure size 432x288 with 1 Axes>"
      ]
     },
     "metadata": {
      "needs_background": "light"
     },
     "output_type": "display_data"
    },
    {
     "data": {
      "image/png": "[encoded data removed]",
      "text/plain": [
       "<Figure size 432x288 with 1 Axes>"
      ]
     },
     "metadata": {
      "needs_background": "light"
     },
     "output_type": "display_data"
    },
    {
     "data": {
      "image/png": "[encoded data removed]",
      "text/plain": [
       "<Figure size 432x288 with 1 Axes>"
      ]
     },
     "metadata": {
      "needs_background": "light"
     },
     "output_type": "display_data"
    },
    {
     "data": {
      "image/png": "[encoded data removed]",
      "text/plain": [
       "<Figure size 432x288 with 1 Axes>"
      ]
     },
     "metadata": {
      "needs_background": "light"
     },
     "output_type": "display_data"
    },
    {
     "data": {
      "image/png": "[encoded data removed]",
      "text/plain": [
       "<Figure size 432x288 with 1 Axes>"
      ]
     },
     "metadata": {
      "needs_background": "light"
     },
     "output_type": "display_data"
    },
    {
     "data": {
      "image/png": "[encoded data removed]",
      "text/plain": [
       "<Figure size 432x288 with 1 Axes>"
      ]
     },
     "metadata": {
      "needs_background": "light"
     },
     "output_type": "display_data"
    },
    {
     "data": {
      "image/png": "[encoded data removed]",
      "text/plain": [
       "<Figure size 432x288 with 1 Axes>"
      ]
     },
     "metadata": {
      "needs_background": "light"
     },
     "output_type": "display_data"
    },
    {
     "data": {
      "image/png": "[encoded data removed]",
      "text/plain": [
       "<Figure size 432x288 with 1 Axes>"
      ]
     },
     "metadata": {
      "needs_background": "light"
     },
     "output_type": "display_data"
    },
    {
     "data": {
      "image/png": "[encoded data removed]",
      "text/plain": [
       "<Figure size 432x288 with 1 Axes>"
      ]
     },
     "metadata": {
      "needs_background": "light"
     },
     "output_type": "display_data"
    },
    {
     "data": {
      "image/png": "[encoded data removed]",
      "text/plain": [
       "<Figure size 432x288 with 1 Axes>"
      ]
     },
     "metadata": {
      "needs_background": "light"
     },
     "output_type": "display_data"
    },
    {
     "data": {
      "image/png": "[encoded data removed]",
      "text/plain": [
       "<Figure size 432x288 with 1 Axes>"
      ]
     },
     "metadata": {
      "needs_background": "light"
     },
     "output_type": "display_data"
    },
    {
     "data": {
      "image/png": "[encoded data removed]",
      "text/plain": [
       "<Figure size 432x288 with 1 Axes>"
      ]
     },
     "metadata": {
      "needs_background": "light"
     },
     "output_type": "display_data"
    },
    {
     "data": {
      "image/png": "[encoded data removed]",
      "text/plain": [
       "<Figure size 432x288 with 1 Axes>"
      ]
     },
     "metadata": {
      "needs_background": "light"
     },
     "output_type": "display_data"
    },
    {
     "data": {
      "image/png": "[encoded data removed]",
      "text/plain": [
       "<Figure size 432x288 with 1 Axes>"
      ]
     },
     "metadata": {
      "needs_background": "light"
     },
     "output_type": "display_data"
    },
    {
     "data": {
      "image/png": "[encoded data removed]",
      "text/plain": [
       "<Figure size 432x288 with 1 Axes>"
      ]
     },
     "metadata": {
      "needs_background": "light"
     },
     "output_type": "display_data"
    },
    {
     "data": {
      "image/png": "[encoded data removed]",
      "text/plain": [
       "<Figure size 432x288 with 1 Axes>"
      ]
     },
     "metadata": {
      "needs_background": "light"
     },
     "output_type": "display_data"
    },
    {
     "data": {
      "image/png": "[encoded data removed]",
      "text/plain": [
       "<Figure size 432x288 with 1 Axes>"
      ]
     },
     "metadata": {
      "needs_background": "light"
     },
     "output_type": "display_data"
    },
    {
     "data": {
      "image/png": "[encoded data removed]",
      "text/plain": [
       "<Figure size 432x288 with 1 Axes>"
      ]
     },
     "metadata": {
      "needs_background": "light"
     },
     "output_type": "display_data"
    },
    {
     "data": {
      "image/png": "[encoded data removed]",
      "text/plain": [
       "<Figure size 432x288 with 1 Axes>"
      ]
     },
     "metadata": {
      "needs_background": "light"
     },
     "output_type": "display_data"
    },
    {
     "data": {
      "image/png": "[encoded data removed]",
      "text/plain": [
       "<Figure size 432x288 with 1 Axes>"
      ]
     },
     "metadata": {
      "needs_background": "light"
     },
     "output_type": "display_data"
    },
    {
     "data": {
      "image/png": "[encoded data removed]",
      "text/plain": [
       "<Figure size 432x288 with 1 Axes>"
      ]
     },
     "metadata": {
      "needs_background": "light"
     },
     "output_type": "display_data"
    },
    {
     "data": {
      "image/png": "[encoded data removed]",
      "text/plain": [
       "<Figure size 432x288 with 1 Axes>"
      ]
     },
     "metadata": {
      "needs_background": "light"
     },
     "output_type": "display_data"
    },
    {
     "data": {
      "image/png": "[encoded data removed]",
      "text/plain": [
       "<Figure size 432x288 with 1 Axes>"
      ]
     },
     "metadata": {
      "needs_background": "light"
     },
     "output_type": "display_data"
    },
    {
     "data": {
      "image/png": "[encoded data removed]",
      "text/plain": [
       "<Figure size 432x288 with 1 Axes>"
      ]
     },
     "metadata": {
      "needs_background": "light"
     },
     "output_type": "display_data"
    }
   ],
   "source": [
    "for col in df_2.columns:\n",
    "    if col!=\"index\":\n",
    "        sns.boxplot(df_2[col].compute())\n",
    "        plt.title(col)\n",
    "        plt.show()"
   ]
  },
  {
   "cell_type": "code",
   "execution_count": 27,
   "id": "satisfied-yesterday",
   "metadata": {},
   "outputs": [
    {
     "name": "stdout",
     "output_type": "stream",
     "text": [
      "FOR PRECIPITATION \n",
      "Normal values 0.988,Outlier values 0.012\n",
      "\n"
     ]
    }
   ],
   "source": [
    "print(f\"\"\"FOR PRECIPITATION \\\n",
    "\n",
    "Normal values \\\n",
    "{round((df_2[df_2[\"Precip\"]==0].shape[0]/df_2.shape[0]).compute(),3)},\\\n",
    "Outlier values \\\n",
    "{round((df_2[df_2[\"Precip\"]!=0].shape[0]/df_2.shape[0]).compute(),3)}\n",
    "\"\"\")"
   ]
  },
  {
   "cell_type": "code",
   "execution_count": 28,
   "id": "infinite-operation",
   "metadata": {},
   "outputs": [
    {
     "data": {
      "text/html": [
       "<div>\n",
       "<style scoped>\n",
       "    .dataframe tbody tr th:only-of-type {\n",
       "        vertical-align: middle;\n",
       "    }\n",
       "\n",
       "    .dataframe tbody tr th {\n",
       "        vertical-align: top;\n",
       "    }\n",
       "\n",
       "    .dataframe thead th {\n",
       "        text-align: right;\n",
       "    }\n",
       "</style>\n",
       "<table border=\"1\" class=\"dataframe\">\n",
       "  <thead>\n",
       "    <tr style=\"text-align: right;\">\n",
       "      <th></th>\n",
       "      <th>Duration</th>\n",
       "      <th>Distance</th>\n",
       "      <th>PLong</th>\n",
       "      <th>PLatd</th>\n",
       "      <th>DLong</th>\n",
       "      <th>DLatd</th>\n",
       "      <th>Haversine</th>\n",
       "      <th>Pmonth</th>\n",
       "      <th>Pday</th>\n",
       "      <th>Phour</th>\n",
       "      <th>...</th>\n",
       "      <th>Dmin</th>\n",
       "      <th>DDweek</th>\n",
       "      <th>Temp</th>\n",
       "      <th>Precip</th>\n",
       "      <th>Wind</th>\n",
       "      <th>Humid</th>\n",
       "      <th>Solar</th>\n",
       "      <th>Snow</th>\n",
       "      <th>GroundTemp</th>\n",
       "      <th>Dust</th>\n",
       "    </tr>\n",
       "  </thead>\n",
       "  <tbody>\n",
       "    <tr>\n",
       "      <th>count</th>\n",
       "      <td>9.601139e+06</td>\n",
       "      <td>9.601139e+06</td>\n",
       "      <td>9.601139e+06</td>\n",
       "      <td>9.601139e+06</td>\n",
       "      <td>9.601139e+06</td>\n",
       "      <td>9.601139e+06</td>\n",
       "      <td>9.601139e+06</td>\n",
       "      <td>9.601139e+06</td>\n",
       "      <td>9.601139e+06</td>\n",
       "      <td>9.601139e+06</td>\n",
       "      <td>...</td>\n",
       "      <td>9.601139e+06</td>\n",
       "      <td>9.601139e+06</td>\n",
       "      <td>9.601139e+06</td>\n",
       "      <td>9.601139e+06</td>\n",
       "      <td>9.601139e+06</td>\n",
       "      <td>9.601139e+06</td>\n",
       "      <td>9.601139e+06</td>\n",
       "      <td>9.601139e+06</td>\n",
       "      <td>9.601139e+06</td>\n",
       "      <td>9.601139e+06</td>\n",
       "    </tr>\n",
       "    <tr>\n",
       "      <th>mean</th>\n",
       "      <td>2.580294e+01</td>\n",
       "      <td>3.713519e+03</td>\n",
       "      <td>3.754761e+01</td>\n",
       "      <td>1.269908e+02</td>\n",
       "      <td>3.754770e+01</td>\n",
       "      <td>1.269907e+02</td>\n",
       "      <td>1.870315e+00</td>\n",
       "      <td>7.578754e+00</td>\n",
       "      <td>1.576714e+01</td>\n",
       "      <td>1.437801e+01</td>\n",
       "      <td>...</td>\n",
       "      <td>2.999278e+01</td>\n",
       "      <td>2.945771e+00</td>\n",
       "      <td>1.856201e+01</td>\n",
       "      <td>1.784856e-02</td>\n",
       "      <td>1.819274e+00</td>\n",
       "      <td>5.397565e+01</td>\n",
       "      <td>7.300679e-01</td>\n",
       "      <td>9.948924e-03</td>\n",
       "      <td>2.072376e+01</td>\n",
       "      <td>3.245798e+01</td>\n",
       "    </tr>\n",
       "    <tr>\n",
       "      <th>std</th>\n",
       "      <td>2.504333e+01</td>\n",
       "      <td>3.956611e+03</td>\n",
       "      <td>4.441376e-02</td>\n",
       "      <td>8.257065e-02</td>\n",
       "      <td>4.445305e-02</td>\n",
       "      <td>8.323726e-02</td>\n",
       "      <td>1.995361e+00</td>\n",
       "      <td>2.696797e+00</td>\n",
       "      <td>8.748012e+00</td>\n",
       "      <td>6.249244e+00</td>\n",
       "      <td>...</td>\n",
       "      <td>1.730960e+01</td>\n",
       "      <td>1.977624e+00</td>\n",
       "      <td>9.498075e+00</td>\n",
       "      <td>3.736282e-01</td>\n",
       "      <td>9.710258e-01</td>\n",
       "      <td>1.742159e+01</td>\n",
       "      <td>9.175004e-01</td>\n",
       "      <td>1.628091e-01</td>\n",
       "      <td>1.265221e+01</td>\n",
       "      <td>2.407264e+01</td>\n",
       "    </tr>\n",
       "    <tr>\n",
       "      <th>min</th>\n",
       "      <td>1.000000e+00</td>\n",
       "      <td>1.000000e+00</td>\n",
       "      <td>3.743727e+01</td>\n",
       "      <td>1.267986e+02</td>\n",
       "      <td>3.743727e+01</td>\n",
       "      <td>1.267986e+02</td>\n",
       "      <td>0.000000e+00</td>\n",
       "      <td>1.000000e+00</td>\n",
       "      <td>1.000000e+00</td>\n",
       "      <td>0.000000e+00</td>\n",
       "      <td>...</td>\n",
       "      <td>0.000000e+00</td>\n",
       "      <td>0.000000e+00</td>\n",
       "      <td>-1.780000e+01</td>\n",
       "      <td>0.000000e+00</td>\n",
       "      <td>0.000000e+00</td>\n",
       "      <td>1.000000e+01</td>\n",
       "      <td>0.000000e+00</td>\n",
       "      <td>0.000000e+00</td>\n",
       "      <td>-1.360000e+01</td>\n",
       "      <td>0.000000e+00</td>\n",
       "    </tr>\n",
       "    <tr>\n",
       "      <th>25%</th>\n",
       "      <td>1.000000e+01</td>\n",
       "      <td>1.400000e+03</td>\n",
       "      <td>3.752029e+01</td>\n",
       "      <td>1.269232e+02</td>\n",
       "      <td>3.752029e+01</td>\n",
       "      <td>1.269225e+02</td>\n",
       "      <td>7.028166e-01</td>\n",
       "      <td>6.000000e+00</td>\n",
       "      <td>1.100000e+01</td>\n",
       "      <td>1.200000e+01</td>\n",
       "      <td>...</td>\n",
       "      <td>1.500000e+01</td>\n",
       "      <td>2.000000e+00</td>\n",
       "      <td>1.350000e+01</td>\n",
       "      <td>0.000000e+00</td>\n",
       "      <td>1.300000e+00</td>\n",
       "      <td>4.600000e+01</td>\n",
       "      <td>0.000000e+00</td>\n",
       "      <td>0.000000e+00</td>\n",
       "      <td>1.510000e+01</td>\n",
       "      <td>2.100000e+01</td>\n",
       "    </tr>\n",
       "    <tr>\n",
       "      <th>50%</th>\n",
       "      <td>2.100000e+01</td>\n",
       "      <td>2.730000e+03</td>\n",
       "      <td>3.755114e+01</td>\n",
       "      <td>1.270025e+02</td>\n",
       "      <td>3.755041e+01</td>\n",
       "      <td>1.270025e+02</td>\n",
       "      <td>1.369997e+00</td>\n",
       "      <td>8.000000e+00</td>\n",
       "      <td>1.800000e+01</td>\n",
       "      <td>1.700000e+01</td>\n",
       "      <td>...</td>\n",
       "      <td>3.000000e+01</td>\n",
       "      <td>4.000000e+00</td>\n",
       "      <td>2.160000e+01</td>\n",
       "      <td>0.000000e+00</td>\n",
       "      <td>2.000000e+00</td>\n",
       "      <td>5.800000e+01</td>\n",
       "      <td>6.800000e-01</td>\n",
       "      <td>0.000000e+00</td>\n",
       "      <td>2.410000e+01</td>\n",
       "      <td>3.300000e+01</td>\n",
       "    </tr>\n",
       "    <tr>\n",
       "      <th>75%</th>\n",
       "      <td>4.600000e+01</td>\n",
       "      <td>5.650000e+03</td>\n",
       "      <td>3.757419e+01</td>\n",
       "      <td>1.270651e+02</td>\n",
       "      <td>3.757404e+01</td>\n",
       "      <td>1.270662e+02</td>\n",
       "      <td>2.636363e+00</td>\n",
       "      <td>1.000000e+01</td>\n",
       "      <td>2.600000e+01</td>\n",
       "      <td>2.000000e+01</td>\n",
       "      <td>...</td>\n",
       "      <td>4.600000e+01</td>\n",
       "      <td>5.000000e+00</td>\n",
       "      <td>2.710000e+01</td>\n",
       "      <td>0.000000e+00</td>\n",
       "      <td>3.100000e+00</td>\n",
       "      <td>7.900000e+01</td>\n",
       "      <td>1.890000e+00</td>\n",
       "      <td>0.000000e+00</td>\n",
       "      <td>3.150000e+01</td>\n",
       "      <td>6.000000e+01</td>\n",
       "    </tr>\n",
       "    <tr>\n",
       "      <th>max</th>\n",
       "      <td>1.190000e+02</td>\n",
       "      <td>3.329000e+04</td>\n",
       "      <td>3.768972e+01</td>\n",
       "      <td>1.271803e+02</td>\n",
       "      <td>3.768972e+01</td>\n",
       "      <td>1.271803e+02</td>\n",
       "      <td>2.863448e+01</td>\n",
       "      <td>1.200000e+01</td>\n",
       "      <td>3.100000e+01</td>\n",
       "      <td>2.300000e+01</td>\n",
       "      <td>...</td>\n",
       "      <td>5.900000e+01</td>\n",
       "      <td>6.000000e+00</td>\n",
       "      <td>3.940000e+01</td>\n",
       "      <td>3.500000e+01</td>\n",
       "      <td>7.400000e+00</td>\n",
       "      <td>9.800000e+01</td>\n",
       "      <td>3.520000e+00</td>\n",
       "      <td>8.800000e+00</td>\n",
       "      <td>6.220000e+01</td>\n",
       "      <td>3.040000e+02</td>\n",
       "    </tr>\n",
       "  </tbody>\n",
       "</table>\n",
       "<p>8 rows × 25 columns</p>\n",
       "</div>"
      ],
      "text/plain": [
       "           Duration      Distance         PLong         PLatd         DLong  \\\n",
       "count  9.601139e+06  9.601139e+06  9.601139e+06  9.601139e+06  9.601139e+06   \n",
       "mean   2.580294e+01  3.713519e+03  3.754761e+01  1.269908e+02  3.754770e+01   \n",
       "std    2.504333e+01  3.956611e+03  4.441376e-02  8.257065e-02  4.445305e-02   \n",
       "min    1.000000e+00  1.000000e+00  3.743727e+01  1.267986e+02  3.743727e+01   \n",
       "25%    1.000000e+01  1.400000e+03  3.752029e+01  1.269232e+02  3.752029e+01   \n",
       "50%    2.100000e+01  2.730000e+03  3.755114e+01  1.270025e+02  3.755041e+01   \n",
       "75%    4.600000e+01  5.650000e+03  3.757419e+01  1.270651e+02  3.757404e+01   \n",
       "max    1.190000e+02  3.329000e+04  3.768972e+01  1.271803e+02  3.768972e+01   \n",
       "\n",
       "              DLatd     Haversine        Pmonth          Pday         Phour  \\\n",
       "count  9.601139e+06  9.601139e+06  9.601139e+06  9.601139e+06  9.601139e+06   \n",
       "mean   1.269907e+02  1.870315e+00  7.578754e+00  1.576714e+01  1.437801e+01   \n",
       "std    8.323726e-02  1.995361e+00  2.696797e+00  8.748012e+00  6.249244e+00   \n",
       "min    1.267986e+02  0.000000e+00  1.000000e+00  1.000000e+00  0.000000e+00   \n",
       "25%    1.269225e+02  7.028166e-01  6.000000e+00  1.100000e+01  1.200000e+01   \n",
       "50%    1.270025e+02  1.369997e+00  8.000000e+00  1.800000e+01  1.700000e+01   \n",
       "75%    1.270662e+02  2.636363e+00  1.000000e+01  2.600000e+01  2.000000e+01   \n",
       "max    1.271803e+02  2.863448e+01  1.200000e+01  3.100000e+01  2.300000e+01   \n",
       "\n",
       "       ...          Dmin        DDweek          Temp        Precip  \\\n",
       "count  ...  9.601139e+06  9.601139e+06  9.601139e+06  9.601139e+06   \n",
       "mean   ...  2.999278e+01  2.945771e+00  1.856201e+01  1.784856e-02   \n",
       "std    ...  1.730960e+01  1.977624e+00  9.498075e+00  3.736282e-01   \n",
       "min    ...  0.000000e+00  0.000000e+00 -1.780000e+01  0.000000e+00   \n",
       "25%    ...  1.500000e+01  2.000000e+00  1.350000e+01  0.000000e+00   \n",
       "50%    ...  3.000000e+01  4.000000e+00  2.160000e+01  0.000000e+00   \n",
       "75%    ...  4.600000e+01  5.000000e+00  2.710000e+01  0.000000e+00   \n",
       "max    ...  5.900000e+01  6.000000e+00  3.940000e+01  3.500000e+01   \n",
       "\n",
       "               Wind         Humid         Solar          Snow    GroundTemp  \\\n",
       "count  9.601139e+06  9.601139e+06  9.601139e+06  9.601139e+06  9.601139e+06   \n",
       "mean   1.819274e+00  5.397565e+01  7.300679e-01  9.948924e-03  2.072376e+01   \n",
       "std    9.710258e-01  1.742159e+01  9.175004e-01  1.628091e-01  1.265221e+01   \n",
       "min    0.000000e+00  1.000000e+01  0.000000e+00  0.000000e+00 -1.360000e+01   \n",
       "25%    1.300000e+00  4.600000e+01  0.000000e+00  0.000000e+00  1.510000e+01   \n",
       "50%    2.000000e+00  5.800000e+01  6.800000e-01  0.000000e+00  2.410000e+01   \n",
       "75%    3.100000e+00  7.900000e+01  1.890000e+00  0.000000e+00  3.150000e+01   \n",
       "max    7.400000e+00  9.800000e+01  3.520000e+00  8.800000e+00  6.220000e+01   \n",
       "\n",
       "               Dust  \n",
       "count  9.601139e+06  \n",
       "mean   3.245798e+01  \n",
       "std    2.407264e+01  \n",
       "min    0.000000e+00  \n",
       "25%    2.100000e+01  \n",
       "50%    3.300000e+01  \n",
       "75%    6.000000e+01  \n",
       "max    3.040000e+02  \n",
       "\n",
       "[8 rows x 25 columns]"
      ]
     },
     "execution_count": 28,
     "metadata": {},
     "output_type": "execute_result"
    }
   ],
   "source": [
    "df.describe().compute()"
   ]
  },
  {
   "cell_type": "markdown",
   "id": "dress-enzyme",
   "metadata": {},
   "source": [
    "Depending on Snow grouping the Durations."
   ]
  },
  {
   "cell_type": "code",
   "execution_count": 29,
   "id": "three-iceland",
   "metadata": {
    "scrolled": true
   },
   "outputs": [
    {
     "data": {
      "text/html": [
       "<div>\n",
       "<style scoped>\n",
       "    .dataframe tbody tr th:only-of-type {\n",
       "        vertical-align: middle;\n",
       "    }\n",
       "\n",
       "    .dataframe tbody tr th {\n",
       "        vertical-align: top;\n",
       "    }\n",
       "\n",
       "    .dataframe thead tr th {\n",
       "        text-align: left;\n",
       "    }\n",
       "\n",
       "    .dataframe thead tr:last-of-type th {\n",
       "        text-align: right;\n",
       "    }\n",
       "</style>\n",
       "<table border=\"1\" class=\"dataframe\">\n",
       "  <thead>\n",
       "    <tr>\n",
       "      <th></th>\n",
       "      <th colspan=\"3\" halign=\"left\">Duration</th>\n",
       "    </tr>\n",
       "    <tr>\n",
       "      <th></th>\n",
       "      <th>min</th>\n",
       "      <th>mean</th>\n",
       "      <th>max</th>\n",
       "    </tr>\n",
       "    <tr>\n",
       "      <th>Snow</th>\n",
       "      <th></th>\n",
       "      <th></th>\n",
       "      <th></th>\n",
       "    </tr>\n",
       "  </thead>\n",
       "  <tbody>\n",
       "    <tr>\n",
       "      <th>0.0</th>\n",
       "      <td>1</td>\n",
       "      <td>25.857817</td>\n",
       "      <td>119</td>\n",
       "    </tr>\n",
       "    <tr>\n",
       "      <th>0.1</th>\n",
       "      <td>1</td>\n",
       "      <td>11.918860</td>\n",
       "      <td>112</td>\n",
       "    </tr>\n",
       "    <tr>\n",
       "      <th>0.2</th>\n",
       "      <td>1</td>\n",
       "      <td>17.516765</td>\n",
       "      <td>119</td>\n",
       "    </tr>\n",
       "    <tr>\n",
       "      <th>0.3</th>\n",
       "      <td>1</td>\n",
       "      <td>15.106536</td>\n",
       "      <td>119</td>\n",
       "    </tr>\n",
       "    <tr>\n",
       "      <th>0.4</th>\n",
       "      <td>1</td>\n",
       "      <td>20.982491</td>\n",
       "      <td>119</td>\n",
       "    </tr>\n",
       "  </tbody>\n",
       "</table>\n",
       "</div>"
      ],
      "text/plain": [
       "     Duration                \n",
       "          min       mean  max\n",
       "Snow                         \n",
       "0.0         1  25.857817  119\n",
       "0.1         1  11.918860  112\n",
       "0.2         1  17.516765  119\n",
       "0.3         1  15.106536  119\n",
       "0.4         1  20.982491  119"
      ]
     },
     "execution_count": 29,
     "metadata": {},
     "output_type": "execute_result"
    }
   ],
   "source": [
    "df[[\"Duration\",\"Snow\"]].groupby(\"Snow\").agg({\"Duration\":[\"min\",\"mean\",\"max\"]}).compute().head()"
   ]
  },
  {
   "cell_type": "markdown",
   "id": "occupied-correspondence",
   "metadata": {},
   "source": [
    "Finding outliers and removing outliers"
   ]
  },
  {
   "cell_type": "code",
   "execution_count": 30,
   "id": "furnished-endorsement",
   "metadata": {},
   "outputs": [],
   "source": [
    "q1=df[\"Duration\"].quantile(0.25)\n",
    "q3=df[\"Duration\"].quantile(0.75)\n",
    "iqr=q3-q1\n",
    "upper = q3+1.5*iqr\n",
    "lower = q1-1.5*iqr\n",
    "\n",
    "upper = upper.compute()\n",
    "lower = lower.compute()"
   ]
  },
  {
   "cell_type": "code",
   "execution_count": 31,
   "id": "polished-intellectual",
   "metadata": {},
   "outputs": [
    {
     "data": {
      "text/plain": [
       "<matplotlib.axes._subplots.AxesSubplot at 0x7f56f44500f0>"
      ]
     },
     "execution_count": 31,
     "metadata": {},
     "output_type": "execute_result"
    },
    {
     "data": {
      "image/png": "[encoded data removed]",
      "text/plain": [
       "<Figure size 432x288 with 1 Axes>"
      ]
     },
     "metadata": {
      "needs_background": "light"
     },
     "output_type": "display_data"
    }
   ],
   "source": [
    "sns.boxplot(df[(df[\"Distance\"]>lower) & (df[\"Distance\"]<upper)][\"Distance\"])"
   ]
  },
  {
   "cell_type": "code",
   "execution_count": 32,
   "id": "eleven-importance",
   "metadata": {},
   "outputs": [],
   "source": [
    "outliers_removed = df[(df[\"Distance\"]>lower) & (df[\"Distance\"]<upper)][[\"Duration\",\"Snow\"]]"
   ]
  },
  {
   "cell_type": "code",
   "execution_count": 33,
   "id": "southwest-gibson",
   "metadata": {},
   "outputs": [
    {
     "data": {
      "text/html": [
       "<div>\n",
       "<style scoped>\n",
       "    .dataframe tbody tr th:only-of-type {\n",
       "        vertical-align: middle;\n",
       "    }\n",
       "\n",
       "    .dataframe tbody tr th {\n",
       "        vertical-align: top;\n",
       "    }\n",
       "\n",
       "    .dataframe thead tr th {\n",
       "        text-align: left;\n",
       "    }\n",
       "\n",
       "    .dataframe thead tr:last-of-type th {\n",
       "        text-align: right;\n",
       "    }\n",
       "</style>\n",
       "<table border=\"1\" class=\"dataframe\">\n",
       "  <thead>\n",
       "    <tr>\n",
       "      <th></th>\n",
       "      <th colspan=\"3\" halign=\"left\">Duration</th>\n",
       "    </tr>\n",
       "    <tr>\n",
       "      <th></th>\n",
       "      <th>min</th>\n",
       "      <th>mean</th>\n",
       "      <th>max</th>\n",
       "    </tr>\n",
       "    <tr>\n",
       "      <th>Snow</th>\n",
       "      <th></th>\n",
       "      <th></th>\n",
       "      <th></th>\n",
       "    </tr>\n",
       "  </thead>\n",
       "  <tbody>\n",
       "    <tr>\n",
       "      <th>0.0</th>\n",
       "      <td>1</td>\n",
       "      <td>9.150270</td>\n",
       "      <td>119</td>\n",
       "    </tr>\n",
       "    <tr>\n",
       "      <th>0.2</th>\n",
       "      <td>2</td>\n",
       "      <td>3.333333</td>\n",
       "      <td>5</td>\n",
       "    </tr>\n",
       "    <tr>\n",
       "      <th>0.3</th>\n",
       "      <td>1</td>\n",
       "      <td>4.500000</td>\n",
       "      <td>13</td>\n",
       "    </tr>\n",
       "    <tr>\n",
       "      <th>0.4</th>\n",
       "      <td>2</td>\n",
       "      <td>7.450000</td>\n",
       "      <td>77</td>\n",
       "    </tr>\n",
       "    <tr>\n",
       "      <th>0.5</th>\n",
       "      <td>2</td>\n",
       "      <td>4.222222</td>\n",
       "      <td>7</td>\n",
       "    </tr>\n",
       "  </tbody>\n",
       "</table>\n",
       "</div>"
      ],
      "text/plain": [
       "     Duration               \n",
       "          min      mean  max\n",
       "Snow                        \n",
       "0.0         1  9.150270  119\n",
       "0.2         2  3.333333    5\n",
       "0.3         1  4.500000   13\n",
       "0.4         2  7.450000   77\n",
       "0.5         2  4.222222    7"
      ]
     },
     "execution_count": 33,
     "metadata": {},
     "output_type": "execute_result"
    }
   ],
   "source": [
    "outliers_removed.groupby(\"Snow\").agg({\"Duration\":[\"min\",\"mean\",\"max\"]}).compute().head()"
   ]
  },
  {
   "cell_type": "markdown",
   "id": "anonymous-equity",
   "metadata": {},
   "source": [
    "Means and medians, before outliers removed and after outliers removed"
   ]
  },
  {
   "cell_type": "code",
   "execution_count": 34,
   "id": "manual-venue",
   "metadata": {},
   "outputs": [
    {
     "data": {
      "text/plain": [
       "(25.80293723484266, 16.0)"
      ]
     },
     "execution_count": 34,
     "metadata": {},
     "output_type": "execute_result"
    }
   ],
   "source": [
    "# With outliers.\n",
    "\n",
    "arr = da.from_array(df[\"Duration\"].compute().values,\n",
    "                    chunks=(1000000,))\n",
    "df[\"Duration\"].mean().compute(),da.median(arr,axis=0).compute()"
   ]
  },
  {
   "cell_type": "code",
   "execution_count": 35,
   "id": "agreed-track",
   "metadata": {},
   "outputs": [
    {
     "data": {
      "text/plain": [
       "(9.139075151821862, 4.0)"
      ]
     },
     "execution_count": 35,
     "metadata": {},
     "output_type": "execute_result"
    }
   ],
   "source": [
    "# Without outliers.\n",
    "\n",
    "arr = da.from_array(outliers_removed[\"Duration\"].compute().values,\n",
    "                    chunks=(1000000,))\n",
    "outliers_removed[\"Duration\"].mean().compute(),\\\n",
    "da.median(arr,axis=0).compute()"
   ]
  },
  {
   "cell_type": "markdown",
   "id": "competitive-reverse",
   "metadata": {},
   "source": [
    "Mean, standard deviation and correlation coefficients are sensitive to outliers!"
   ]
  },
  {
   "cell_type": "code",
   "execution_count": 36,
   "id": "incredible-replication",
   "metadata": {},
   "outputs": [],
   "source": [
    "selected_columns = [\"Duration\",\"Distance\",\"Haversine\",\"Temp\",\n",
    "                   \"Precip\",\"Wind\",\"Humid\",\"Solar\",\"Snow\",\n",
    "                   \"GroundTemp\",\"Dust\"]"
   ]
  },
  {
   "cell_type": "markdown",
   "id": "stable-trailer",
   "metadata": {},
   "source": [
    "Pearson correlation map. Only pearson can implemented with dask."
   ]
  },
  {
   "cell_type": "code",
   "execution_count": 37,
   "id": "preceding-vampire",
   "metadata": {},
   "outputs": [
    {
     "data": {
      "image/png": "[encoded data removed]",
      "text/plain": [
       "<Figure size 720x720 with 2 Axes>"
      ]
     },
     "metadata": {
      "needs_background": "light"
     },
     "output_type": "display_data"
    }
   ],
   "source": [
    "plt.figure(figsize=(10,10))\n",
    "sns.heatmap(df[selected_columns].corr(method=\"pearson\").compute(),\n",
    "           annot=True)\n",
    "plt.show()"
   ]
  },
  {
   "cell_type": "markdown",
   "id": "reserved-hamilton",
   "metadata": {},
   "source": [
    "To visualize scatter of large data."
   ]
  },
  {
   "cell_type": "code",
   "execution_count": 38,
   "id": "simplified-reservoir",
   "metadata": {},
   "outputs": [
    {
     "data": {
      "image/png": "[encoded data removed]",
      "text/plain": [
       "<Figure size 432x288 with 1 Axes>"
      ]
     },
     "metadata": {
      "needs_background": "light"
     },
     "output_type": "display_data"
    }
   ],
   "source": [
    "plt.hexbin(df[\"Duration\"].compute(), df[\"Distance\"].compute(),\n",
    "          gridsize=30)\n",
    "plt.show()"
   ]
  },
  {
   "cell_type": "code",
   "execution_count": 40,
   "id": "plastic-heart",
   "metadata": {},
   "outputs": [
    {
     "data": {
      "image/png": "[encoded data removed]",
      "text/plain": [
       "<Figure size 432x288 with 1 Axes>"
      ]
     },
     "metadata": {
      "needs_background": "light"
     },
     "output_type": "display_data"
    }
   ],
   "source": [
    "plt.hist(df[df.Distance<500][\"Duration\"].compute())\n",
    "plt.xlabel(\"Distance<500\")\n",
    "plt.ylabel(\"Frequency\")\n",
    "plt.show()"
   ]
  },
  {
   "cell_type": "markdown",
   "id": "unlikely-wichita",
   "metadata": {},
   "source": [
    "___"
   ]
  },
  {
   "cell_type": "markdown",
   "id": "limiting-effectiveness",
   "metadata": {},
   "source": [
    "## EXTRA"
   ]
  },
  {
   "cell_type": "markdown",
   "id": "finite-manual",
   "metadata": {},
   "source": [
    "___"
   ]
  },
  {
   "cell_type": "markdown",
   "id": "instrumental-charles",
   "metadata": {},
   "source": [
    "### DASK CLIENT (FUTURE)\n",
    "Clustering and computing parallel except array and dataframe. With Python objects."
   ]
  },
  {
   "cell_type": "code",
   "execution_count": 41,
   "id": "concerned-smith",
   "metadata": {},
   "outputs": [],
   "source": [
    "from dask.distributed import Client, progress, as_completed\n",
    "import time \n",
    "import random"
   ]
  },
  {
   "cell_type": "code",
   "execution_count": 42,
   "id": "special-synthesis",
   "metadata": {
    "scrolled": true
   },
   "outputs": [
    {
     "data": {
      "text/html": [
       "<table style=\"border: 2px solid white;\">\n",
       "<tr>\n",
       "<td style=\"vertical-align: top; border: 0px solid white\">\n",
       "<h3 style=\"text-align: left;\">Client</h3>\n",
       "<ul style=\"text-align: left; list-style: none; margin: 0; padding: 0;\">\n",
       "  <li><b>Scheduler: </b>tcp://127.0.0.1:40545</li>\n",
       "  <li><b>Dashboard: </b><a href='http://127.0.0.1:8787/status' target='_blank'>http://127.0.0.1:8787/status</a></li>\n",
       "</ul>\n",
       "</td>\n",
       "<td style=\"vertical-align: top; border: 0px solid white\">\n",
       "<h3 style=\"text-align: left;\">Cluster</h3>\n",
       "<ul style=\"text-align: left; list-style:none; margin: 0; padding: 0;\">\n",
       "  <li><b>Workers: </b>1</li>\n",
       "  <li><b>Cores: </b>4</li>\n",
       "  <li><b>Memory: </b>25.07 GB</li>\n",
       "</ul>\n",
       "</td>\n",
       "</tr>\n",
       "</table>"
      ],
      "text/plain": [
       "<Client: 'tcp://127.0.0.1:40545' processes=1 threads=4, memory=25.07 GB>"
      ]
     },
     "execution_count": 42,
     "metadata": {},
     "output_type": "execute_result"
    }
   ],
   "source": [
    "client = Client(threads_per_worker=4, n_workers=1)\n",
    "client"
   ]
  },
  {
   "cell_type": "code",
   "execution_count": 43,
   "id": "physical-conversation",
   "metadata": {},
   "outputs": [],
   "source": [
    "def inc(x):\n",
    "    time.sleep(random.random())\n",
    "    return x + 1\n",
    "\n",
    "def double(x):\n",
    "    time.sleep(random.random())\n",
    "    return 2 * x\n",
    "\n",
    "def add(x, y):\n",
    "    time.sleep(random.random())\n",
    "    return x + y"
   ]
  },
  {
   "cell_type": "code",
   "execution_count": 44,
   "id": "complimentary-mississippi",
   "metadata": {},
   "outputs": [
    {
     "data": {
      "text/plain": [
       "2"
      ]
     },
     "execution_count": 44,
     "metadata": {},
     "output_type": "execute_result"
    }
   ],
   "source": [
    "inc(1)"
   ]
  },
  {
   "cell_type": "code",
   "execution_count": 45,
   "id": "established-farming",
   "metadata": {},
   "outputs": [
    {
     "data": {
      "text/html": [
       "<b>Future: inc</b> <font color=\"gray\">status: </font><font color=\"black\">pending</font>, <font color=\"gray\">key: </font>inc-4e20f6fa5adfa828a0ed40153a7d620d"
      ],
      "text/plain": [
       "<Future: pending, key: inc-4e20f6fa5adfa828a0ed40153a7d620d>"
      ]
     },
     "execution_count": 45,
     "metadata": {},
     "output_type": "execute_result"
    }
   ],
   "source": [
    "future = client.submit(inc, 1)\n",
    "future"
   ]
  },
  {
   "cell_type": "code",
   "execution_count": 46,
   "id": "recorded-typing",
   "metadata": {},
   "outputs": [
    {
     "data": {
      "text/html": [
       "<b>Future: inc</b> <font color=\"gray\">status: </font><font color=\"black\">finished</font>, <font color=\"gray\">type: </font>builtins.int, <font color=\"gray\">key: </font>inc-4e20f6fa5adfa828a0ed40153a7d620d"
      ],
      "text/plain": [
       "<Future: finished, type: builtins.int, key: inc-4e20f6fa5adfa828a0ed40153a7d620d>"
      ]
     },
     "execution_count": 46,
     "metadata": {},
     "output_type": "execute_result"
    }
   ],
   "source": [
    "future"
   ]
  },
  {
   "cell_type": "code",
   "execution_count": 47,
   "id": "cosmetic-genesis",
   "metadata": {},
   "outputs": [
    {
     "data": {
      "text/plain": [
       "2"
      ]
     },
     "execution_count": 47,
     "metadata": {},
     "output_type": "execute_result"
    }
   ],
   "source": [
    "future.result()"
   ]
  },
  {
   "cell_type": "code",
   "execution_count": 48,
   "id": "basic-insertion",
   "metadata": {},
   "outputs": [
    {
     "name": "stdout",
     "output_type": "stream",
     "text": [
      "6.1 ms ± 1.52 ms per loop (mean ± std. dev. of 7 runs, 1 loop each)\n"
     ]
    }
   ],
   "source": [
    "%%timeit\n",
    "x = client.submit(inc, 1)\n",
    "y = client.submit(double, 2)\n",
    "z = client.submit(add, x, y)\n",
    "z.result()"
   ]
  },
  {
   "cell_type": "code",
   "execution_count": 49,
   "id": "olympic-archive",
   "metadata": {},
   "outputs": [
    {
     "name": "stdout",
     "output_type": "stream",
     "text": [
      "1.53 s ± 199 ms per loop (mean ± std. dev. of 7 runs, 1 loop each)\n"
     ]
    }
   ],
   "source": [
    "%%timeit\n",
    "x = inc(1)\n",
    "y = double(2)\n",
    "z = add(x, y)"
   ]
  },
  {
   "cell_type": "code",
   "execution_count": 50,
   "id": "indian-ukraine",
   "metadata": {},
   "outputs": [],
   "source": [
    "client.cluster.scale(5)"
   ]
  },
  {
   "cell_type": "code",
   "execution_count": 51,
   "id": "korean-lindsay",
   "metadata": {},
   "outputs": [
    {
     "name": "stdout",
     "output_type": "stream",
     "text": [
      "CPU times: user 6.29 ms, sys: 433 ms, total: 440 ms\n",
      "Wall time: 245 ms\n"
     ]
    },
    {
     "data": {
      "text/plain": [
       "2"
      ]
     },
     "execution_count": 51,
     "metadata": {},
     "output_type": "execute_result"
    }
   ],
   "source": [
    "%time client.submit(inc, 1).result()"
   ]
  },
  {
   "cell_type": "code",
   "execution_count": 52,
   "id": "manufactured-return",
   "metadata": {},
   "outputs": [],
   "source": [
    "client.cluster.scale(10)"
   ]
  },
  {
   "cell_type": "code",
   "execution_count": 53,
   "id": "efficient-monte",
   "metadata": {},
   "outputs": [
    {
     "name": "stdout",
     "output_type": "stream",
     "text": [
      "CPU times: user 3.17 ms, sys: 7.88 ms, total: 11 ms\n",
      "Wall time: 8.94 ms\n"
     ]
    },
    {
     "data": {
      "text/plain": [
       "2"
      ]
     },
     "execution_count": 53,
     "metadata": {},
     "output_type": "execute_result"
    }
   ],
   "source": [
    "%time client.submit(inc, 1).result()"
   ]
  },
  {
   "cell_type": "code",
   "execution_count": 54,
   "id": "failing-vatican",
   "metadata": {},
   "outputs": [],
   "source": [
    "client.cluster.scale(20)"
   ]
  },
  {
   "cell_type": "code",
   "execution_count": 55,
   "id": "continental-short",
   "metadata": {},
   "outputs": [
    {
     "name": "stdout",
     "output_type": "stream",
     "text": [
      "CPU times: user 12.3 ms, sys: 19.1 ms, total: 31.5 ms\n",
      "Wall time: 31.2 ms\n"
     ]
    },
    {
     "data": {
      "text/plain": [
       "2"
      ]
     },
     "execution_count": 55,
     "metadata": {},
     "output_type": "execute_result"
    }
   ],
   "source": [
    "%time client.submit(inc, 1).result()"
   ]
  },
  {
   "cell_type": "code",
   "execution_count": 65,
   "id": "mexican-stadium",
   "metadata": {},
   "outputs": [],
   "source": [
    "client.cluster.scale(1)"
   ]
  },
  {
   "cell_type": "code",
   "execution_count": 66,
   "id": "hawaiian-account",
   "metadata": {},
   "outputs": [
    {
     "name": "stdout",
     "output_type": "stream",
     "text": [
      "20000\n",
      "CPU times: user 10.2 s, sys: 903 ms, total: 11.1 s\n",
      "Wall time: 12.6 s\n"
     ]
    }
   ],
   "source": [
    "%%time\n",
    "sum_arr = []\n",
    "for i in range(10000):\n",
    "    x = client.submit(inc, 1)\n",
    "    sum_arr.append(x.result())\n",
    "print(sum(sum_arr))"
   ]
  },
  {
   "cell_type": "code",
   "execution_count": 67,
   "id": "listed-horizontal",
   "metadata": {},
   "outputs": [],
   "source": [
    "client.cluster.scale(10)"
   ]
  },
  {
   "cell_type": "code",
   "execution_count": 68,
   "id": "hollywood-caribbean",
   "metadata": {},
   "outputs": [
    {
     "name": "stdout",
     "output_type": "stream",
     "text": [
      "20000\n",
      "CPU times: user 10.8 s, sys: 2.12 s, total: 13 s\n",
      "Wall time: 14.2 s\n"
     ]
    }
   ],
   "source": [
    "%%time\n",
    "sum_arr = []\n",
    "for i in range(10000):\n",
    "    x = client.submit(inc, 1)\n",
    "    sum_arr.append(x.result())\n",
    "print(sum(sum_arr))"
   ]
  },
  {
   "cell_type": "code",
   "execution_count": 64,
   "id": "inappropriate-claim",
   "metadata": {
    "scrolled": true
   },
   "outputs": [
    {
     "name": "stdout",
     "output_type": "stream",
     "text": [
      "20\n",
      "CPU times: user 1.09 s, sys: 162 ms, total: 1.25 s\n",
      "Wall time: 5.67 s\n"
     ]
    }
   ],
   "source": [
    "%%time\n",
    "sum_arr = []\n",
    "for i in range(10):\n",
    "    x = inc(1)\n",
    "    sum_arr.append(x)\n",
    "print(sum(sum_arr))"
   ]
  },
  {
   "cell_type": "markdown",
   "id": "medical-rescue",
   "metadata": {},
   "source": [
    "If we want to see some of the computations' results and after that continue we need to use as_completed. Actually the process is you compute something until ac when you assign the processes to ac remain process is depend on me."
   ]
  },
  {
   "cell_type": "code",
   "execution_count": 80,
   "id": "empty-ladder",
   "metadata": {},
   "outputs": [],
   "source": [
    "client.cluster.scale(20)"
   ]
  },
  {
   "cell_type": "code",
   "execution_count": 88,
   "id": "serial-specification",
   "metadata": {},
   "outputs": [
    {
     "name": "stdout",
     "output_type": "stream",
     "text": [
      "293 ms ± 5.72 ms per loop (mean ± std. dev. of 7 runs, 1 loop each)\n"
     ]
    }
   ],
   "source": [
    "%%timeit\n",
    "zs = []\n",
    "for i in range(3000):\n",
    "    x = inc(i)     # x = inc(i)\n",
    "    y = double(x)  # y = inc(x)\n",
    "    z = add(x, y)  # z = inc(y)\n",
    "    zs.append(z)"
   ]
  },
  {
   "cell_type": "code",
   "execution_count": 89,
   "id": "fatal-barbados",
   "metadata": {},
   "outputs": [
    {
     "name": "stdout",
     "output_type": "stream",
     "text": [
      "1.43 s ± 342 ms per loop (mean ± std. dev. of 7 runs, 1 loop each)\n"
     ]
    }
   ],
   "source": [
    "%%timeit\n",
    "zs = []\n",
    "for i in range(3000):\n",
    "    x = client.submit(inc, i)     # x = inc(i)\n",
    "    y = client.submit(double, x)  # y = inc(x)\n",
    "    z = client.submit(add, x, y)  # z = inc(y)\n",
    "    zs.append(z)"
   ]
  },
  {
   "cell_type": "code",
   "execution_count": 71,
   "id": "sporting-characterization",
   "metadata": {},
   "outputs": [
    {
     "name": "stderr",
     "output_type": "stream",
     "text": [
      "distributed.scheduler - ERROR - Couldn't gather keys {'inc-cee436b9ecd701b7d41b7569e6807cde': []} state: ['processing'] workers: []\n",
      "NoneType: None\n",
      "distributed.scheduler - ERROR - Workers don't have promised key: [], inc-cee436b9ecd701b7d41b7569e6807cde\n",
      "NoneType: None\n",
      "distributed.client - WARNING - Couldn't gather 1 keys, rescheduling {'inc-cee436b9ecd701b7d41b7569e6807cde': ()}\n",
      "distributed.scheduler - ERROR - Couldn't gather keys {'inc-818c3f6a754a735df21a8f08799b2b5d': []} state: ['processing'] workers: []\n",
      "NoneType: None\n",
      "distributed.scheduler - ERROR - Workers don't have promised key: [], inc-818c3f6a754a735df21a8f08799b2b5d\n",
      "NoneType: None\n",
      "distributed.client - WARNING - Couldn't gather 1 keys, rescheduling {'inc-818c3f6a754a735df21a8f08799b2b5d': ()}\n"
     ]
    },
    {
     "name": "stdout",
     "output_type": "stream",
     "text": [
      "8.06 ms ± 3.2 ms per loop (mean ± std. dev. of 7 runs, 100 loops each)\n"
     ]
    }
   ],
   "source": [
    "%%timeit\n",
    "# With as_completed\n",
    "finished_processes = []\n",
    "x, y, z = client.map(inc, [1, 2, 3])\n",
    "ac = as_completed([x, y, z])\n",
    "for future in ac:\n",
    "    finished_processes.append(future.result())"
   ]
  },
  {
   "cell_type": "code",
   "execution_count": 72,
   "id": "fifty-desperate",
   "metadata": {},
   "outputs": [
    {
     "name": "stdout",
     "output_type": "stream",
     "text": [
      "The slowest run took 162.60 times longer than the fastest. This could mean that an intermediate result is being cached.\n",
      "180 ms ± 279 ms per loop (mean ± std. dev. of 7 runs, 1 loop each)\n"
     ]
    }
   ],
   "source": [
    "%%timeit \n",
    "x, y, z = client.map(inc, [1, 2, 3])\n",
    "finished_processes = []\n",
    "for cl in [x, y, z]:\n",
    "    finished_processes.append(cl.result())"
   ]
  },
  {
   "cell_type": "markdown",
   "id": "eastern-karen",
   "metadata": {},
   "source": [
    "___"
   ]
  },
  {
   "cell_type": "markdown",
   "id": "recorded-intro",
   "metadata": {},
   "source": [
    "### DASK DELAYED\n",
    "\n",
    "I don't think delayed is useful. This is for parallelizing the functions."
   ]
  },
  {
   "cell_type": "code",
   "execution_count": 73,
   "id": "olympic-wichita",
   "metadata": {},
   "outputs": [],
   "source": [
    "import dask.delayed as delayed"
   ]
  },
  {
   "cell_type": "code",
   "execution_count": 74,
   "id": "impressed-climb",
   "metadata": {},
   "outputs": [],
   "source": [
    "def inc(x):\n",
    "    return x + 1\n",
    "\n",
    "def double(x):\n",
    "    return x * 2\n",
    "\n",
    "def add(x, y):\n",
    "    return x + y"
   ]
  },
  {
   "cell_type": "code",
   "execution_count": 75,
   "id": "individual-arthritis",
   "metadata": {},
   "outputs": [
    {
     "name": "stdout",
     "output_type": "stream",
     "text": [
      "224 µs ± 1.34 µs per loop (mean ± std. dev. of 7 runs, 1000 loops each)\n"
     ]
    }
   ],
   "source": [
    "%%timeit\n",
    "\n",
    "output = []\n",
    "for x in range(1000):\n",
    "    a = inc(x)\n",
    "    b = double(x)\n",
    "    c = add(a, b)\n",
    "    output.append(c)\n",
    "\n",
    "total = sum(output)"
   ]
  },
  {
   "cell_type": "code",
   "execution_count": 76,
   "id": "roman-hypothetical",
   "metadata": {},
   "outputs": [],
   "source": [
    "@delayed\n",
    "def inc(x):\n",
    "    return x + 1\n",
    "\n",
    "@delayed\n",
    "def double(x):\n",
    "    return x * 2\n",
    "\n",
    "@delayed\n",
    "def add(x, y):\n",
    "    return x + y"
   ]
  },
  {
   "cell_type": "code",
   "execution_count": 77,
   "id": "crazy-bachelor",
   "metadata": {},
   "outputs": [
    {
     "name": "stdout",
     "output_type": "stream",
     "text": [
      "92.5 ms ± 371 µs per loop (mean ± std. dev. of 7 runs, 10 loops each)\n"
     ]
    }
   ],
   "source": [
    "%%timeit\n",
    "\n",
    "output = []\n",
    "for x in range(1000):\n",
    "    a = inc(x)\n",
    "    b = double(x)\n",
    "    c = add(a, b)\n",
    "    output.append(c)\n",
    "\n",
    "total = delayed(sum)(output)"
   ]
  },
  {
   "cell_type": "markdown",
   "id": "excessive-highland",
   "metadata": {},
   "source": [
    "___"
   ]
  }
 ],
 "metadata": {
  "kernelspec": {
   "display_name": "Python 3",
   "language": "python",
   "name": "python3"
  },
  "language_info": {
   "codemirror_mode": {
    "name": "ipython",
    "version": 3
   },
   "file_extension": ".py",
   "mimetype": "text/x-python",
   "name": "python",
   "nbconvert_exporter": "python",
   "pygments_lexer": "ipython3",
   "version": "3.6.9"
  }
 },
 "nbformat": 4,
 "nbformat_minor": 5
}
